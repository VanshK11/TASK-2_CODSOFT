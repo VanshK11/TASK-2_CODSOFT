{
 "cells": [
  {
   "cell_type": "code",
   "execution_count": null,
   "id": "d2c2523c-1bf4-472b-813c-cb8f33749ac9",
   "metadata": {},
   "outputs": [],
   "source": [
    "MOVIE RATING PREDICTION"
   ]
  },
  {
   "cell_type": "code",
   "execution_count": null,
   "id": "52b2e4f5-ba35-4bbc-a939-f86ea191a86a",
   "metadata": {},
   "outputs": [],
   "source": [
    "NAME: VANSH KAKKAR"
   ]
  },
  {
   "cell_type": "code",
   "execution_count": null,
   "id": "9d940803-f3cb-4d8a-a741-c50de6a65642",
   "metadata": {},
   "outputs": [],
   "source": [
    "BATCH: AUGUST"
   ]
  },
  {
   "cell_type": "code",
   "execution_count": null,
   "id": "e9757982-7a8e-4c02-9a52-21bf7c9f7db0",
   "metadata": {},
   "outputs": [],
   "source": [
    "DATA SCIENCE INTERNSHIP"
   ]
  },
  {
   "cell_type": "code",
   "execution_count": null,
   "id": "e5ab374f-7f76-4719-ab5c-5fe836bb9733",
   "metadata": {},
   "outputs": [],
   "source": [
    "AIM:\n",
    "The Aim Of This Project Is To build A Model that Predicts The Movie Ratings."
   ]
  },
  {
   "cell_type": "code",
   "execution_count": null,
   "id": "d10066bd-e127-4f62-944e-dd6d81e62080",
   "metadata": {},
   "outputs": [],
   "source": [
    "DATASETS:\n",
    "The Following Datasets Were Used For This Project:\n",
    "- Movie_data: Contains Movie Information After Preprocessing, Including MovieName, Genre, And MovieIDs.\n",
    "- Ratings_data: Contains Ratings Information After Preprocessing, Including Ratings And Timestamp.\n",
    "- Users_data: Contains User Information After Preprocessing, Including Gender, Age, Occupation, And Zip-code."
   ]
  },
  {
   "cell_type": "code",
   "execution_count": null,
   "id": "c2b89e2b-873e-4bc1-9c79-139f9e8fbdc2",
   "metadata": {},
   "outputs": [],
   "source": [
    "LIBRARIES USED:\n",
    "The Following Important Libraries Were Used For This Project:\n",
    "- numpy\n",
    "- pandas\n",
    "- matplotlib.pyplot\n",
    "- seaborn\n",
    "- sklearn.preprocessing.LabelEncoder\n",
    "- sklearn.preprocessing.MinMaxScaler\n",
    "- sklearn.model_selection.train_test_split\n",
    "- sklearn.linear_model.LogisticRegression"
   ]
  },
  {
   "cell_type": "code",
   "execution_count": null,
   "id": "1e5c1654-bfee-4e7d-8a37-9b789bb5a2d9",
   "metadata": {},
   "outputs": [],
   "source": [
    "DATA EXPLORATION AND PREPROCESSING:\n",
    "- The Movie_data, Ratings_data, And Users_data Were Loaded As DataFrames From Separate CSV Files.\n",
    "- The Missing Values In Each DataFrame Were Dropped Using `dropna(inplace=True)`.\n",
    "- The Shape And Descriptive Statistics For Each DataFrame Were Displayed Using `df.shape` And `df.describe()`.\n",
    "- The 'Gender' Column In Users_data Was Encoded From Categorical To Numerical Values Using LabelEncoder.\n",
    "- The DataFrames Were Concatenated Horizontally Using `pd.concat` To Create A Final Dataset `df_data`.\n",
    "- Unnecessary Columns Like 'Occupation', 'Zip-code', And 'Timestamp' Were Dropped From The Final Dataset To Create `df2`.\n",
    "- Any Remaining Missing Values In The Final Dataset `df2` Were Dropped Using `dropna()`.\n",
    "- Data Visualization Was Performed Using Count Plots And Histograms To Gain Insights Into The Distribution Of Ratings, Genders, And Age."
   ]
  },
  {
   "cell_type": "code",
   "execution_count": null,
   "id": "8a74a087-4747-4e83-932f-a5ef7050ee02",
   "metadata": {},
   "outputs": [],
   "source": [
    "MODEL TRAINING:\n",
    "- The Feature Matrix `input` And Target Vector `target` Were Created Using Relevant Columns From The Final Dataset `df_final`.\n",
    "- The Data Was Split Into Training And Testing Sets Using `train_test_split`.\n",
    "- The Input Data Was Scaled Using MinMaxScaler To Normalize The Values Between 0 And 1."
   ]
  },
  {
   "cell_type": "code",
   "execution_count": null,
   "id": "c2a963aa-b833-4c8e-b88e-ec71e645979a",
   "metadata": {},
   "outputs": [],
   "source": [
    "MODEL PREDICTION:\n",
    "- A Logistic Regression Model Was Initialized And Trained On The Training Data Using `LogisticRegression`.\n",
    "- The Model Was Used To Predict Movie Ratings For The Test Set Using `model.predict(X_test)`."
   ]
  }
 ],
 "metadata": {
  "kernelspec": {
   "display_name": "Python 3 (ipykernel)",
   "language": "python",
   "name": "python3"
  },
  "language_info": {
   "codemirror_mode": {
    "name": "ipython",
    "version": 3
   },
   "file_extension": ".py",
   "mimetype": "text/x-python",
   "name": "python",
   "nbconvert_exporter": "python",
   "pygments_lexer": "ipython3",
   "version": "3.12.4"
  }
 },
 "nbformat": 4,
 "nbformat_minor": 5
}
